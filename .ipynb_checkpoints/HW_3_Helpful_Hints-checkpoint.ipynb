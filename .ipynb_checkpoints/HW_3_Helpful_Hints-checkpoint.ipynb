{
 "cells": [
  {
   "cell_type": "markdown",
   "metadata": {},
   "source": [
    "# HW 3 Helpful Hints"
   ]
  },
  {
   "cell_type": "markdown",
   "metadata": {},
   "source": [
    "**About:**\n",
    "This Jupyter Notebook is intended to serve as a helpful aid when working on HW 3: Turtle Charter\n",
    "\n",
    "This tool is totally optional. For students who want the extra challenge, you can ignore this advice. However, if you'd like some additional guidance on: \n",
    "* scaffolding\n",
    "* useful functions\n",
    "* Tips/Tricks\n",
    "\n",
    "Please continue reading. \n",
    "\n",
    "**Caveats:**\n",
    "* Remember, there's more than one way to skin a cat (Explanation:https://grammarist.com/phrase/more-than-one-way-to-skin-a-cat/). You don't have to follow my recommendations below. They're just intended as a starting place. \n",
    "* I'm writing these tips in Jupyter for maximum readability. If you choose to borrow code, in order to actually get the code to run in your program, you will need to paste it into your .py script. **Do not submit a Jupyter Notebook for your Turtle solution!!** Jupyter doesn't play well with Turtles..."
   ]
  },
  {
   "cell_type": "markdown",
   "metadata": {},
   "source": [
    "## Set-up\n",
    "I give you some out of the box starter code. Here's a little more on it: "
   ]
  },
  {
   "cell_type": "code",
   "execution_count": 3,
   "metadata": {},
   "outputs": [],
   "source": [
    "import turtle  # import module so you can work with it\n",
    "\n",
    "# Define window size as constants\n",
    "window = turtle.Screen()  # create a window (canvas) for the turtle to draw on\n",
    "window.title(\"Turtle Demo\")  # the title to show at the top of the window\n",
    "WINDOW_WIDTH = 800  # size constants for easy changing\n",
    "WINDOW_HEIGHT = 500\n",
    "window.setup(WINDOW_WIDTH, WINDOW_HEIGHT)  # set window size (width, height)\n",
    "window.setworldcoordinates(-20, -20, WINDOW_WIDTH, WINDOW_HEIGHT)  # coord system\n",
    "# out of the box, the coordinates are set to (0,0,WW, WH), but if you noticed your turtle\n",
    "# is drawing off the screen, adjust these to something like better, (-20,-20, WW, WH)\n",
    "\n",
    "# Create the Turtle! Initialize a turtle variable and call the turtle function. \n",
    "my_turtle = turtle.Turtle()\n",
    "my_turtle.speed(\"slowest\")  \n",
    "\n",
    "# try slower speeds when you're just getting used to the turtle and when troubleshooting.\n",
    "# Later, when you're bored watching your turtle, you can crank up the speed\n",
    "\n",
    "###Code to make your turtle dance and move is here............................ see below\n",
    "\n",
    "# Make turtle graphics appear and run; wait for the user to close the screen\n",
    "# This MUST be the last statement executed in the script\n",
    "window.mainloop()\n"
   ]
  },
  {
   "cell_type": "markdown",
   "metadata": {},
   "source": [
    "**In case it's not obvious, this is just starter code!** You're very quickly going to abandon this code for much more complicated functions, looping behavior, etc. Some of the stuff above is **required code** (I don't know how you'll complete the assignment without importing turtle...), but where it ends up in your final program, well, let's just say it won't look like this when you're done!\n",
    "\n",
    "Alright, so that initializes your turtle, but before you make it move, see what others have done with this. We haven't covered \"for loops\" yet, but there are some cool examples on the web: \n",
    "* Here's one: https://michael0x2a.com/blog/turtle-examples\n",
    "\n",
    "The starter code is not all that exciting, but it's enough to get you started. Try tweaking: \n",
    "* right() and left() to draw right angles\n",
    "* forward() to draw different distances"
   ]
  },
  {
   "cell_type": "code",
   "execution_count": 4,
   "metadata": {},
   "outputs": [
    {
     "ename": "TclError",
     "evalue": "invalid command name \".!canvas\"",
     "output_type": "error",
     "traceback": [
      "\u001b[1;31m---------------------------------------------------------------------------\u001b[0m",
      "\u001b[1;31mTclError\u001b[0m                                  Traceback (most recent call last)",
      "\u001b[1;32m<ipython-input-4-6c5482175104>\u001b[0m in \u001b[0;36m<module>\u001b[1;34m()\u001b[0m\n\u001b[0;32m      1\u001b[0m \u001b[1;31m# Move the turtle to draw\u001b[0m\u001b[1;33m\u001b[0m\u001b[1;33m\u001b[0m\u001b[0m\n\u001b[1;32m----> 2\u001b[1;33m \u001b[0mmy_turtle\u001b[0m\u001b[1;33m.\u001b[0m\u001b[0mpenup\u001b[0m\u001b[1;33m(\u001b[0m\u001b[1;33m)\u001b[0m       \u001b[1;31m# do not draw while moving\u001b[0m\u001b[1;33m\u001b[0m\u001b[0m\n\u001b[0m\u001b[0;32m      3\u001b[0m \u001b[0mmy_turtle\u001b[0m\u001b[1;33m.\u001b[0m\u001b[0mgoto\u001b[0m\u001b[1;33m(\u001b[0m\u001b[1;36m30\u001b[0m\u001b[1;33m,\u001b[0m \u001b[1;36m60\u001b[0m\u001b[1;33m)\u001b[0m  \u001b[1;31m# walk to coordinates\u001b[0m\u001b[1;33m\u001b[0m\u001b[0m\n\u001b[0;32m      4\u001b[0m \u001b[0mmy_turtle\u001b[0m\u001b[1;33m.\u001b[0m\u001b[0mpendown\u001b[0m\u001b[1;33m(\u001b[0m\u001b[1;33m)\u001b[0m     \u001b[1;31m# start drawing again\u001b[0m\u001b[1;33m\u001b[0m\u001b[0m\n\u001b[0;32m      5\u001b[0m \u001b[0mmy_turtle\u001b[0m\u001b[1;33m.\u001b[0m\u001b[0mforward\u001b[0m\u001b[1;33m(\u001b[0m\u001b[1;36m80\u001b[0m\u001b[1;33m)\u001b[0m   \u001b[1;31m# move forward\u001b[0m\u001b[1;33m\u001b[0m\u001b[0m\n",
      "\u001b[1;32m~\\Anaconda3\\lib\\turtle.py\u001b[0m in \u001b[0;36mpenup\u001b[1;34m(self)\u001b[0m\n\u001b[0;32m   2105\u001b[0m         \u001b[1;32mif\u001b[0m \u001b[1;32mnot\u001b[0m \u001b[0mself\u001b[0m\u001b[1;33m.\u001b[0m\u001b[0m_drawing\u001b[0m\u001b[1;33m:\u001b[0m\u001b[1;33m\u001b[0m\u001b[0m\n\u001b[0;32m   2106\u001b[0m             \u001b[1;32mreturn\u001b[0m\u001b[1;33m\u001b[0m\u001b[0m\n\u001b[1;32m-> 2107\u001b[1;33m         \u001b[0mself\u001b[0m\u001b[1;33m.\u001b[0m\u001b[0mpen\u001b[0m\u001b[1;33m(\u001b[0m\u001b[0mpendown\u001b[0m\u001b[1;33m=\u001b[0m\u001b[1;32mFalse\u001b[0m\u001b[1;33m)\u001b[0m\u001b[1;33m\u001b[0m\u001b[0m\n\u001b[0m\u001b[0;32m   2108\u001b[0m \u001b[1;33m\u001b[0m\u001b[0m\n\u001b[0;32m   2109\u001b[0m     \u001b[1;32mdef\u001b[0m \u001b[0mpendown\u001b[0m\u001b[1;33m(\u001b[0m\u001b[0mself\u001b[0m\u001b[1;33m)\u001b[0m\u001b[1;33m:\u001b[0m\u001b[1;33m\u001b[0m\u001b[0m\n",
      "\u001b[1;32m~\\Anaconda3\\lib\\turtle.py\u001b[0m in \u001b[0;36mpen\u001b[1;34m(self, pen, **pendict)\u001b[0m\n\u001b[0;32m   2423\u001b[0m                 \u001b[0mnewLine\u001b[0m \u001b[1;33m=\u001b[0m \u001b[1;32mTrue\u001b[0m\u001b[1;33m\u001b[0m\u001b[0m\n\u001b[0;32m   2424\u001b[0m         \u001b[1;32mif\u001b[0m \u001b[0mnewLine\u001b[0m\u001b[1;33m:\u001b[0m\u001b[1;33m\u001b[0m\u001b[0m\n\u001b[1;32m-> 2425\u001b[1;33m             \u001b[0mself\u001b[0m\u001b[1;33m.\u001b[0m\u001b[0m_newLine\u001b[0m\u001b[1;33m(\u001b[0m\u001b[1;33m)\u001b[0m\u001b[1;33m\u001b[0m\u001b[0m\n\u001b[0m\u001b[0;32m   2426\u001b[0m         \u001b[1;32mif\u001b[0m \u001b[1;34m\"pendown\"\u001b[0m \u001b[1;32min\u001b[0m \u001b[0mp\u001b[0m\u001b[1;33m:\u001b[0m\u001b[1;33m\u001b[0m\u001b[0m\n\u001b[0;32m   2427\u001b[0m             \u001b[0mself\u001b[0m\u001b[1;33m.\u001b[0m\u001b[0m_drawing\u001b[0m \u001b[1;33m=\u001b[0m \u001b[0mp\u001b[0m\u001b[1;33m[\u001b[0m\u001b[1;34m\"pendown\"\u001b[0m\u001b[1;33m]\u001b[0m\u001b[1;33m\u001b[0m\u001b[0m\n",
      "\u001b[1;32m~\\Anaconda3\\lib\\turtle.py\u001b[0m in \u001b[0;36m_newLine\u001b[1;34m(self, usePos)\u001b[0m\n\u001b[0;32m   3289\u001b[0m             \u001b[0mself\u001b[0m\u001b[1;33m.\u001b[0m\u001b[0mitems\u001b[0m\u001b[1;33m.\u001b[0m\u001b[0mappend\u001b[0m\u001b[1;33m(\u001b[0m\u001b[0mself\u001b[0m\u001b[1;33m.\u001b[0m\u001b[0mcurrentLineItem\u001b[0m\u001b[1;33m)\u001b[0m\u001b[1;33m\u001b[0m\u001b[0m\n\u001b[0;32m   3290\u001b[0m         \u001b[1;32melse\u001b[0m\u001b[1;33m:\u001b[0m\u001b[1;33m\u001b[0m\u001b[0m\n\u001b[1;32m-> 3291\u001b[1;33m             \u001b[0mself\u001b[0m\u001b[1;33m.\u001b[0m\u001b[0mscreen\u001b[0m\u001b[1;33m.\u001b[0m\u001b[0m_drawline\u001b[0m\u001b[1;33m(\u001b[0m\u001b[0mself\u001b[0m\u001b[1;33m.\u001b[0m\u001b[0mcurrentLineItem\u001b[0m\u001b[1;33m,\u001b[0m \u001b[0mtop\u001b[0m\u001b[1;33m=\u001b[0m\u001b[1;32mTrue\u001b[0m\u001b[1;33m)\u001b[0m\u001b[1;33m\u001b[0m\u001b[0m\n\u001b[0m\u001b[0;32m   3292\u001b[0m         \u001b[0mself\u001b[0m\u001b[1;33m.\u001b[0m\u001b[0mcurrentLine\u001b[0m \u001b[1;33m=\u001b[0m \u001b[1;33m[\u001b[0m\u001b[1;33m]\u001b[0m\u001b[1;33m\u001b[0m\u001b[0m\n\u001b[0;32m   3293\u001b[0m         \u001b[1;32mif\u001b[0m \u001b[0musePos\u001b[0m\u001b[1;33m:\u001b[0m\u001b[1;33m\u001b[0m\u001b[0m\n",
      "\u001b[1;32m~\\Anaconda3\\lib\\turtle.py\u001b[0m in \u001b[0;36m_drawline\u001b[1;34m(self, lineitem, coordlist, fill, width, top)\u001b[0m\n\u001b[0;32m    549\u001b[0m             \u001b[0mself\u001b[0m\u001b[1;33m.\u001b[0m\u001b[0mcv\u001b[0m\u001b[1;33m.\u001b[0m\u001b[0mitemconfigure\u001b[0m\u001b[1;33m(\u001b[0m\u001b[0mlineitem\u001b[0m\u001b[1;33m,\u001b[0m \u001b[0mwidth\u001b[0m\u001b[1;33m=\u001b[0m\u001b[0mwidth\u001b[0m\u001b[1;33m)\u001b[0m\u001b[1;33m\u001b[0m\u001b[0m\n\u001b[0;32m    550\u001b[0m         \u001b[1;32mif\u001b[0m \u001b[0mtop\u001b[0m\u001b[1;33m:\u001b[0m\u001b[1;33m\u001b[0m\u001b[0m\n\u001b[1;32m--> 551\u001b[1;33m             \u001b[0mself\u001b[0m\u001b[1;33m.\u001b[0m\u001b[0mcv\u001b[0m\u001b[1;33m.\u001b[0m\u001b[0mtag_raise\u001b[0m\u001b[1;33m(\u001b[0m\u001b[0mlineitem\u001b[0m\u001b[1;33m)\u001b[0m\u001b[1;33m\u001b[0m\u001b[0m\n\u001b[0m\u001b[0;32m    552\u001b[0m \u001b[1;33m\u001b[0m\u001b[0m\n\u001b[0;32m    553\u001b[0m     \u001b[1;32mdef\u001b[0m \u001b[0m_delete\u001b[0m\u001b[1;33m(\u001b[0m\u001b[0mself\u001b[0m\u001b[1;33m,\u001b[0m \u001b[0mitem\u001b[0m\u001b[1;33m)\u001b[0m\u001b[1;33m:\u001b[0m\u001b[1;33m\u001b[0m\u001b[0m\n",
      "\u001b[1;32m<string>\u001b[0m in \u001b[0;36mtag_raise\u001b[1;34m(self, *args, **kw)\u001b[0m\n",
      "\u001b[1;32m~\\Anaconda3\\lib\\tkinter\\__init__.py\u001b[0m in \u001b[0;36mtag_raise\u001b[1;34m(self, *args)\u001b[0m\n\u001b[0;32m   2597\u001b[0m         \"\"\"Raise an item TAGORID given in ARGS\n\u001b[0;32m   2598\u001b[0m         (optional above another item).\"\"\"\n\u001b[1;32m-> 2599\u001b[1;33m         \u001b[0mself\u001b[0m\u001b[1;33m.\u001b[0m\u001b[0mtk\u001b[0m\u001b[1;33m.\u001b[0m\u001b[0mcall\u001b[0m\u001b[1;33m(\u001b[0m\u001b[1;33m(\u001b[0m\u001b[0mself\u001b[0m\u001b[1;33m.\u001b[0m\u001b[0m_w\u001b[0m\u001b[1;33m,\u001b[0m \u001b[1;34m'raise'\u001b[0m\u001b[1;33m)\u001b[0m \u001b[1;33m+\u001b[0m \u001b[0margs\u001b[0m\u001b[1;33m)\u001b[0m\u001b[1;33m\u001b[0m\u001b[0m\n\u001b[0m\u001b[0;32m   2600\u001b[0m     \u001b[0mlift\u001b[0m \u001b[1;33m=\u001b[0m \u001b[0mtkraise\u001b[0m \u001b[1;33m=\u001b[0m \u001b[0mtag_raise\u001b[0m\u001b[1;33m\u001b[0m\u001b[0m\n\u001b[0;32m   2601\u001b[0m     \u001b[1;32mdef\u001b[0m \u001b[0mscale\u001b[0m\u001b[1;33m(\u001b[0m\u001b[0mself\u001b[0m\u001b[1;33m,\u001b[0m \u001b[1;33m*\u001b[0m\u001b[0margs\u001b[0m\u001b[1;33m)\u001b[0m\u001b[1;33m:\u001b[0m\u001b[1;33m\u001b[0m\u001b[0m\n",
      "\u001b[1;31mTclError\u001b[0m: invalid command name \".!canvas\""
     ]
    }
   ],
   "source": [
    "# Move the turtle to draw\n",
    "my_turtle.penup()       # do not draw while moving\n",
    "my_turtle.goto(30, 60)  # walk to coordinates\n",
    "my_turtle.pendown()     # start drawing again\n",
    "my_turtle.forward(80)   # move forward\n",
    "my_turtle.left(60)      # turn left\n",
    "my_turtle.forward(120)  # move forward\n",
    "my_turtle.right(120)    # turn left\n",
    "my_turtle.forward(120)  # move forward"
   ]
  },
  {
   "cell_type": "markdown",
   "metadata": {},
   "source": [
    "* Challenge 1: Can you draw a bar? What is a bar, but a rectangle...\n",
    "* Challenge 2: Can you draw multiple bars? Of course you could copy the instructions 5 times, but that's no fun. Try creating 5 bars using a while loop.\n",
    "\n",
    "Don't worry about the data set yet, just try drawing a fixed number of bars, like 5. "
   ]
  },
  {
   "cell_type": "markdown",
   "metadata": {},
   "source": [
    "## Helpful Hints: \n",
    "\n",
    "There are some complicated pieces to this puzzle.\n",
    "\n",
    "When getting started, don't worry about: \n",
    "* Coloring your bars\n",
    "* Making this a top-level script (remember the \"if __name__ == \"__main__\":\" thing?...ignore that for now)\n",
    "\n",
    "When you're getting started, just get comfortable with the Turtle. Be sure to read more about the module itself! Below are a few helpful turtle functions\n",
    "\n",
    "Also, don't worry about the \"user input\" part of this yet. You'll drive yourself crazy if every time you want to test your program you have to input the file name and chart title!!!\n",
    "\n",
    "**Do this instead:** \n",
    "It's common in programming to hardcode values like this early on, then make them dynamic later"
   ]
  },
  {
   "cell_type": "markdown",
   "metadata": {},
   "source": [
    "### Helpful Function: GO HOME TURTLE!\n",
    "The turtle can only draw one thing (or loop of things) at a time. When you want it to start drawing the second thing, first tell it to go home! Like this: "
   ]
  },
  {
   "cell_type": "code",
   "execution_count": null,
   "metadata": {},
   "outputs": [],
   "source": [
    "my_turtle.home() ##This should reference the global coordinates you set earlier. (0,0) or (-20, -20)"
   ]
  },
  {
   "cell_type": "markdown",
   "metadata": {},
   "source": [
    "Remember, your turtle has a pen taped to its butt..."
   ]
  },
  {
   "cell_type": "code",
   "execution_count": null,
   "metadata": {},
   "outputs": [],
   "source": [
    "turtle.pendown() ##You guessed it, put the pendown(draw) \n",
    "turtle.penup() ##Pick up the pen (don't draw)"
   ]
  },
  {
   "cell_type": "markdown",
   "metadata": {},
   "source": [
    "## Writing Your Functions\n",
    "Once you feel comfortable manipulating the turtle, if you haven't already done this: Walk away from your computer, pic up a pencil and a piece of paper and **start scaffolding/outlining this assignment!**"
   ]
  },
  {
   "cell_type": "markdown",
   "metadata": {},
   "source": [
    "## Start Small\n",
    "Pick some achievable milestones. Spend some time trying to deliver those.\n",
    "\n",
    "Here are a couple of quick wins: \n",
    "1. Draw the x and y axes\n",
    "2. Draw tick marks on the y axis\n",
    "\n",
    "To get started, just see if you can get the turtle to draw two lines (don't forget about using the turtle home() function). Then figure out a way loop and draw your y-axis tick marks. \n",
    "\n",
    "Don't get too hung up on doing this in a function at first. It's okay to just draw these objects, then worry about wrapping them in a function later!"
   ]
  },
  {
   "cell_type": "markdown",
   "metadata": {},
   "source": [
    "You could put all this in one function, or break it out as 3. The answer is up to you.\n",
    "\n",
    "### Hint on working with Window Width: \n",
    "\n",
    "You set Window Width as a fixed value for a reason. Use it! Think of the width in terms of pixels. 800 pixels by 500 pixels. \n",
    "\n",
    "How far should your x and y axes extend (turtle.forward(?))? Instead of having a \"fixed\" axis distance, set the axis distance \"relative\" to your WINDOW WIDTH/HEIGHT variables!\n",
    "\n",
    "### Helpful Approach: \n",
    "Once your draw your axes, wrap them in functions. Practicing calling those functions. This **could** look something like: "
   ]
  },
  {
   "cell_type": "code",
   "execution_count": null,
   "metadata": {},
   "outputs": [],
   "source": [
    "##BTW, we call this pseudocode! It looks like real code, but don't bother tring to run it.\n",
    "\n",
    "##Define your fucntion\n",
    "def draw_y_axis(turtle):\n",
    "    work...\n",
    "    draw turtle draw!!!\n",
    "    turtle.home()\n",
    "    \n",
    "##Call your function\n",
    "##Later you'll move these kinds of calls down closer to your main, but for now\n",
    "##for debugging/testing, they're fine here.\n",
    "draw_y_axis(my_turtle)"
   ]
  },
  {
   "cell_type": "markdown",
   "metadata": {},
   "source": [
    "## Getting Started Reading the Data File: \n",
    "Wasn't that cool, you made a Frankenstein turtle and gave it instructions! You're even starting to think through the core pieces of this assignment. Let's put untape the turtle butt pen for a minute and talk about the data file.\n",
    "\n",
    "Alright, there are two files in the repo you cloned. \n",
    "* huskies2016.txt\n",
    "* sample_data.txt\n",
    "\n",
    "Your program, in the end, should be able to read either of them and produce a consistent chart. Think about that for a second...\n",
    "\n",
    "...\n",
    "\n",
    "**DO THIS:** Open both files and understand the patterns between them. What do you observe? \n",
    "* Regardless of file length, theres this pattern of 3 \"data features\" appearing in the file. \n",
    "* The first is some arbitrary name label...\n",
    "* The second is some arbitrary measurement in an int format...\n",
    "\n",
    "**Okay now do this** Look at the finished chart. Start to translate the data bits to the image!\n",
    "* There's a dynamic count of observations...\n",
    "* The tallest bar is the height of the y-axis...\n",
    "* The tallest bar sets the max value of the y-axis...\n",
    "* What else do you notice? "
   ]
  },
  {
   "cell_type": "code",
   "execution_count": null,
   "metadata": {},
   "outputs": [],
   "source": [
    "##We didn't get to cover for loops in class, so here's some starter code to get you started\n",
    "##Before you actually run this, think about what you think this code is doing...did it match expectations. \n",
    "filename = 'data/sample_data.txt'\n",
    "with open(filename) as file: \n",
    "    for line in file: \n",
    "        print(line)"
   ]
  },
  {
   "cell_type": "markdown",
   "metadata": {},
   "source": [
    "Ignoring the syntax for a minute, conceptually, let's say you want to grab every 1st object, how would you do it? What about every second object? \n",
    "\n",
    "**Hints:**: \n",
    "* Again, conceptually, could you use division? \n",
    "* There are other options. Read about the modulo operator: \"%\""
   ]
  },
  {
   "cell_type": "markdown",
   "metadata": {},
   "source": [
    "Alright, since we didn't get to _For Loops_ in class, I don't you to be held up. Here's a freebie: \n"
   ]
  },
  {
   "cell_type": "code",
   "execution_count": null,
   "metadata": {},
   "outputs": [],
   "source": [
    "## This is what I mean by hardcoding the filename. Do this for now, \n",
    "## Later you'll have your user input the file path/name, but during development, \n",
    "## it's okay to hardcode the path. Test: Try replacing the huskies2016 file path, and see if you get different results. \n",
    "\n",
    "filename = \"data/sample_data.txt\"\n",
    "\n",
    "with open(filename) as file: \n",
    "    num_lines = 0\n",
    "    for line in file: \n",
    "        num_lines = num_lines + 1\n",
    "print(num_lines)"
   ]
  },
  {
   "cell_type": "markdown",
   "metadata": {},
   "source": [
    "The above is a good intro to For Loops which we'll cover in our next lecture! How is this different from a While Loop? \n",
    "\n",
    "Okay, this code above helps you figure out the count lines in the file. That's not quite the same as the \"count of observations\"...\n",
    "* Challenge 1: Run the code above and make sure it works to produce an accurate count of observations in your data file\n",
    "* Challenge 2: Edit the code above in your .py script to calculate the count of observations (that's what you need, not the count of line)...\n",
    "* Challenge 3: Define a function called _count_observations_ that takes as an argument a filename and returns a count of observations. Use the code above as the instructions in your function\n",
    "* Challenge 4: Here's the magic! Use your count of observations as the condition in your turtle bar chart loop!"
   ]
  },
  {
   "cell_type": "code",
   "execution_count": null,
   "metadata": {},
   "outputs": [],
   "source": []
  }
 ],
 "metadata": {
  "kernelspec": {
   "display_name": "Python 3",
   "language": "python",
   "name": "python3"
  },
  "language_info": {
   "codemirror_mode": {
    "name": "ipython",
    "version": 3
   },
   "file_extension": ".py",
   "mimetype": "text/x-python",
   "name": "python",
   "nbconvert_exporter": "python",
   "pygments_lexer": "ipython3",
   "version": "3.7.0"
  }
 },
 "nbformat": 4,
 "nbformat_minor": 2
}
